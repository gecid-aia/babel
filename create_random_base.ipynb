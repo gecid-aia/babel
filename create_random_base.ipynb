{
 "cells": [
  {
   "cell_type": "code",
   "execution_count": 1,
   "metadata": {},
   "outputs": [],
   "source": [
    "import numpy as np\n",
    "import pandas as pd\n",
    "import matplotlib.pyplot as plt\n",
    "import seaborn as sns\n",
    "\n",
    "sns.set()\n",
    "%matplotlib inline"
   ]
  },
  {
   "cell_type": "code",
   "execution_count": 2,
   "metadata": {},
   "outputs": [],
   "source": [
    "languages = pd.read_csv('datasets/mother_base2.csv')"
   ]
  },
  {
   "cell_type": "code",
   "execution_count": 3,
   "metadata": {},
   "outputs": [
    {
     "data": {
      "text/html": [
       "<div>\n",
       "<style scoped>\n",
       "    .dataframe tbody tr th:only-of-type {\n",
       "        vertical-align: middle;\n",
       "    }\n",
       "\n",
       "    .dataframe tbody tr th {\n",
       "        vertical-align: top;\n",
       "    }\n",
       "\n",
       "    .dataframe thead th {\n",
       "        text-align: right;\n",
       "    }\n",
       "</style>\n",
       "<table border=\"1\" class=\"dataframe\">\n",
       "  <thead>\n",
       "    <tr style=\"text-align: right;\">\n",
       "      <th></th>\n",
       "      <th>Language</th>\n",
       "      <th>Code</th>\n",
       "    </tr>\n",
       "  </thead>\n",
       "  <tbody>\n",
       "    <tr>\n",
       "      <th>0</th>\n",
       "      <td>Chinese (Simplified)</td>\n",
       "      <td>zh</td>\n",
       "    </tr>\n",
       "    <tr>\n",
       "      <th>1</th>\n",
       "      <td>English</td>\n",
       "      <td>en</td>\n",
       "    </tr>\n",
       "    <tr>\n",
       "      <th>2</th>\n",
       "      <td>Hungarian</td>\n",
       "      <td>hu</td>\n",
       "    </tr>\n",
       "  </tbody>\n",
       "</table>\n",
       "</div>"
      ],
      "text/plain": [
       "               Language Code\n",
       "0  Chinese (Simplified)   zh\n",
       "1               English   en\n",
       "2             Hungarian   hu"
      ]
     },
     "execution_count": 3,
     "metadata": {},
     "output_type": "execute_result"
    }
   ],
   "source": [
    "language_uniques = {}\n",
    "language_uniques['Language'] = languages['Language'].unique()\n",
    "language_uniques = pd.DataFrame(language_uniques)\n",
    "language_uniques['Code'] = language_uniques['Language'].apply(lambda x : languages[languages['Language'] == x]['Code'].values[0])\n",
    "language_uniques.head(3)"
   ]
  },
  {
   "cell_type": "code",
   "execution_count": 56,
   "metadata": {},
   "outputs": [],
   "source": [
    "def removeRepeat(base):\n",
    "    aux_code = base['Code'].values\n",
    "    aux_lang = base['Language'].values\n",
    "    for i in range(1, len(aux_code)):\n",
    "        while aux_code[i-1] == aux_code[i]:\n",
    "            temp = aux_code[i]\n",
    "            aux_code[i] = np.random.choice(base['Code'])\n",
    "            aux_lang[i] = base[base['Code'] == aux_code[i]]['Language'].values[0]\n",
    "            #print(aux_code[i], aux_lang[i])\n",
    "            #print(temp,'->',aux_code[i])\n",
    "    base['Language'] = aux_lang\n",
    "    base['Code'] = aux_code\n",
    "    #print(aux_lang)\n",
    "    #print(aux_code)\n",
    "    return base.copy()"
   ]
  },
  {
   "cell_type": "code",
   "execution_count": 57,
   "metadata": {},
   "outputs": [],
   "source": [
    "def newCSV(filename, base, n = 1, removeRep = True):\n",
    "    m = len(base)\n",
    "    filename = ''.join([filename, '.csv'])\n",
    "    temp = base.sample(1).copy()\n",
    "    for i in range(n-1):\n",
    "        temp = pd.concat([temp, base.sample(1)], axis = 0)\n",
    "    temp.reset_index(drop = True)\n",
    "    if removeRep:\n",
    "        temp = removeRepeat(temp)\n",
    "    temp.reset_index(drop = True)\n",
    "    while temp['Code'].value_counts()[0] > int(n/m + 2):\n",
    "        temp = base.sample(1).copy()\n",
    "        for i in range(n-1):\n",
    "            temp = pd.concat([temp, base.sample(1)], axis = 0)\n",
    "        temp.reset_index(drop = True)\n",
    "        if removeRep:\n",
    "            temp = removeRepeat(temp)\n",
    "        temp.reset_index(drop = True)\n",
    "    temp.reset_index(drop = True)\n",
    "    temp.to_csv('datasets/'+filename, index = False)\n",
    "    print(filename+' created successfully. Size =', len(temp))\n",
    "    print(temp['Code'].value_counts())\n",
    "    del temp"
   ]
  },
  {
   "cell_type": "code",
   "execution_count": 58,
   "metadata": {},
   "outputs": [],
   "source": [
    "#for i in range(5):\n",
    "#    newCSV('base'+str(i+1), language_uniques, n = 284)"
   ]
  },
  {
   "cell_type": "code",
   "execution_count": 59,
   "metadata": {},
   "outputs": [
    {
     "data": {
      "text/plain": [
       "array(['zh', 'en', 'hu', 'it', 'uk', 'bn', 'fa'], dtype=object)"
      ]
     },
     "execution_count": 59,
     "metadata": {},
     "output_type": "execute_result"
    }
   ],
   "source": [
    "languages['Code'].unique()"
   ]
  },
  {
   "cell_type": "code",
   "execution_count": 60,
   "metadata": {
    "scrolled": false
   },
   "outputs": [],
   "source": [
    "#for i in range(1):\n",
    "#    newCSV('mother'+str(i+1), language_uniques, n = 142)"
   ]
  },
  {
   "cell_type": "code",
   "execution_count": 61,
   "metadata": {},
   "outputs": [
    {
     "name": "stdout",
     "output_type": "stream",
     "text": [
      "mother_1.csv created successfully. Size = 142\n",
      "hu    22\n",
      "fa    22\n",
      "zh    21\n",
      "bn    21\n",
      "uk    20\n",
      "it    18\n",
      "en    18\n",
      "Name: Code, dtype: int64\n"
     ]
    }
   ],
   "source": [
    "for i in range(1):\n",
    "    newCSV('mother_'+str(i+1), language_uniques, n = 142)"
   ]
  },
  {
   "cell_type": "code",
   "execution_count": null,
   "metadata": {},
   "outputs": [],
   "source": []
  },
  {
   "cell_type": "code",
   "execution_count": null,
   "metadata": {},
   "outputs": [],
   "source": []
  }
 ],
 "metadata": {
  "kernelspec": {
   "display_name": "Python 3",
   "language": "python",
   "name": "python3"
  },
  "language_info": {
   "codemirror_mode": {
    "name": "ipython",
    "version": 3
   },
   "file_extension": ".py",
   "mimetype": "text/x-python",
   "name": "python",
   "nbconvert_exporter": "python",
   "pygments_lexer": "ipython3",
   "version": "3.7.3"
  }
 },
 "nbformat": 4,
 "nbformat_minor": 2
}
